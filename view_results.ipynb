{
 "cells": [
  {
   "cell_type": "code",
   "execution_count": 3,
   "metadata": {},
   "outputs": [
    {
     "name": "stdout",
     "output_type": "stream",
     "text": [
      "5501.84588828669\n",
      "5501.845088066554\n"
     ]
    }
   ],
   "source": [
    "import os\n",
    "import pickle\n",
    "\n",
    "results_dir = 'results'\n",
    "problem = '25fv47'\n",
    "\n",
    "lp_fn = os.path.join(results_dir, problem + '_lp.p')\n",
    "sd_fn = os.path.join(results_dir, problem + '_sd.p')\n",
    "\n",
    "with open(lp_fn, 'rb') as f:\n",
    "    lp_results = pickle.load(f)\n",
    "with open(sd_fn, 'rb') as f:\n",
    "    sd_results = pickle.load(f)\n",
    "    \n",
    "print(lp_results['obj'])\n",
    "print(sd_results['obj'])\n"
   ]
  }
 ],
 "metadata": {
  "kernelspec": {
   "display_name": "Python 3",
   "language": "python",
   "name": "python3"
  },
  "language_info": {
   "codemirror_mode": {
    "name": "ipython",
    "version": 3
   },
   "file_extension": ".py",
   "mimetype": "text/x-python",
   "name": "python",
   "nbconvert_exporter": "python",
   "pygments_lexer": "ipython3",
   "version": "3.7.3"
  }
 },
 "nbformat": 4,
 "nbformat_minor": 2
}
